{
 "cells": [
  {
   "cell_type": "code",
   "execution_count": 14,
   "metadata": {},
   "outputs": [],
   "source": [
    "import numpy as np\n",
    "import matplotlib.pyplot as plt"
   ]
  },
  {
   "cell_type": "code",
   "execution_count": 60,
   "metadata": {},
   "outputs": [
    {
     "name": "stdout",
     "output_type": "stream",
     "text": [
      "354.75\n",
      "630.21875\n"
     ]
    },
    {
     "data": {
      "image/png": "[encoded data removed]",
      "text/plain": [
       "<matplotlib.figure.Figure at 0x17ea743b710>"
      ]
     },
     "metadata": {},
     "output_type": "display_data"
    }
   ],
   "source": [
    "x = np.array([51,49,46,64,74,52,63,57])\n",
    "y = np.array([421,430,380,425,522,349,480,460])\n",
    "\n",
    "x2 = np.array([48,56,72,58,66,53,53,31])\n",
    "y2 = np.array([372,415,540,396,490,377,380,344])\n",
    "\n",
    "fig = plt.figure()\n",
    "\n",
    "ax = fig.add_subplot(1,1,1)\n",
    "\n",
    "ax.scatter(x,y,c = 'red', label = 'A class')\n",
    "ax.scatter(x2,y2,c = 'blue', label = 'B class')\n",
    "\n",
    "#ax.set_title('')\n",
    "ax.set_xlabel('SuichokuTobi')\n",
    "ax.set_ylabel('HashirihabaTobi')\n",
    "\n",
    "ax.set_ylim([300,550])\n",
    "ax.set_xlim([40,80])\n",
    "\n",
    "ax.grid()\n",
    "\n",
    "x_dev = x - x.mean()\n",
    "y_dev = y - y.mean()\n",
    "\n",
    "s_xy = (x_dev * y_dev).mean()\n",
    "print(s_xy)\n",
    "\n",
    "x2_dev = x2 - x2.mean()\n",
    "y2_dev = y2 - y2.mean()\n",
    "\n",
    "s_x2y2 = (x2_dev * y2_dev).mean()\n",
    "print(s_x2y2)\n",
    "\n"
   ]
  },
  {
   "cell_type": "code",
   "execution_count": 49,
   "metadata": {},
   "outputs": [
    {
     "name": "stdout",
     "output_type": "stream",
     "text": [
      "48.0 57.0\n",
      "[-28.0, -18.0, 12.0, 2.0, 32.0] [-27.0, 3.0, -22.0, 13.0, 33.0]\n",
      "dev [756.0, -54.0, -264.0, 26.0, 1056.0]\n",
      "304.0\n"
     ]
    },
    {
     "data": {
      "image/png": "[encoded data removed]",
      "text/plain": [
       "<matplotlib.figure.Figure at 0x17ea72ef2e8>"
      ]
     },
     "metadata": {},
     "output_type": "display_data"
    }
   ],
   "source": [
    "x = np.array([20,30,60,50,80])\n",
    "y = np.array([30,60,35,70,90])\n",
    "\n",
    "fig = plt.figure()\n",
    "\n",
    "ax = fig.add_subplot(1,1,1)\n",
    "\n",
    "ax.scatter(x,y,c = 'red')\n",
    "\n",
    "#ax.set_title('')\n",
    "ax.grid()\n",
    "ax.set_xlabel('math')\n",
    "ax.set_ylabel('science')\n",
    "\n",
    "ax.set_ylim([0,100])\n",
    "ax.set_xlim([0,100])\n",
    "\n",
    "\n",
    "x_mean = x.mean()\n",
    "y_mean = y.mean()\n",
    "\n",
    "print(x_mean,y_mean)\n",
    "\n",
    "math_dev = []\n",
    "science_dev = []\n",
    "\n",
    "for i in range(len(x)):\n",
    "    math_dev.append(x[i] - x.mean())\n",
    "    science_dev.append(y[i] - y.mean())\n",
    "    \n",
    "\n",
    "    \n",
    "print(math_dev,science_dev)\n",
    "\n",
    "dev = []\n",
    "for i in range(len(math_dev)):\n",
    "    dev.append(math_dev[i]*science_dev[i])\n",
    "    \n",
    "print('dev',dev)\n",
    "\n",
    "s = 0\n",
    "for i in range(len(dev)):\n",
    "    s = s + dev[i]\n",
    "\n",
    "s_xy = s/len(dev)\n",
    "print(s_xy)\n",
    "\n",
    "\n",
    "\n"
   ]
  },
  {
   "cell_type": "code",
   "execution_count": 84,
   "metadata": {},
   "outputs": [
    {
     "name": "stdout",
     "output_type": "stream",
     "text": [
      "35 25\n",
      "7.0 5.0\n",
      "2.8\n",
      "4.0\n",
      "3.2\n",
      "0.7826237921249264\n",
      "a 0.7\n",
      "b 0.10000000000000053\n"
     ]
    },
    {
     "data": {
      "text/plain": [
       "[<matplotlib.lines.Line2D at 0x17ea75bc550>]"
      ]
     },
     "execution_count": 84,
     "metadata": {},
     "output_type": "execute_result"
    },
    {
     "data": {
      "image/png": "[encoded data removed]",
      "text/plain": [
       "<matplotlib.figure.Figure at 0x17ea7349128>"
      ]
     },
     "metadata": {},
     "output_type": "display_data"
    }
   ],
   "source": [
    "import math\n",
    "\n",
    "x = [10, 4, 7, 6, 8]\n",
    "y = [6, 2, 7, 4, 6]\n",
    "\n",
    "#x = [6,5,3,2,4]\n",
    "#y = [3,4,4,5,4]\n",
    "\n",
    "\n",
    "fig = plt.figure()\n",
    "\n",
    "ax = fig.add_subplot(1,1,1)\n",
    "\n",
    "ax.scatter(x,y,c = 'red')\n",
    "\n",
    "#ax.set_title('')\n",
    "ax.grid()\n",
    "ax.set_xlabel('math')\n",
    "ax.set_ylabel('science')\n",
    "\n",
    "ax.set_ylim([0,20])\n",
    "ax.set_xlim([0,20])\n",
    "\n",
    "\n",
    "x_mean = 0\n",
    "y_mean = 0\n",
    "\n",
    "for i in x:\n",
    "    x_mean = x_mean + i\n",
    "for i in y:\n",
    "    y_mean = y_mean + i\n",
    "    \n",
    "print(x_mean,y_mean)\n",
    "x_mean = x_mean/len(x)\n",
    "y_mean = y_mean/len(y)\n",
    "print(x_mean,y_mean)\n",
    "\n",
    "sum = 0\n",
    "for i in range(len(x)):\n",
    "    sum = sum + (x[i] - x_mean) * (y[i] - y_mean)\n",
    "\n",
    "s_xy = sum / len(x)\n",
    "print(s_xy)\n",
    "\n",
    "sum = 0\n",
    "for i in range(len(x)):\n",
    "    sum = sum + pow(x[i] - x_mean,2)\n",
    "s_x = sum / len(x)\n",
    "print(s_x)\n",
    "\n",
    "sum = 0\n",
    "for i in range(len(y)):\n",
    "    sum = sum + pow(y[i] - y_mean,2)\n",
    "s_y = sum / len(y)\n",
    "print(s_y)\n",
    "\n",
    "r = s_xy/(math.sqrt(s_y) * math.sqrt(s_x))\n",
    "\n",
    "print(r)\n",
    "\n",
    "sum = 0\n",
    "sum2 = 0\n",
    "for i in range(len(x)):\n",
    "    sum = sum + (x[i] - x_mean)*(y[i] - y_mean)\n",
    "    sum2 = sum2 + pow(x[i] - x_mean,2)\n",
    "\n",
    "a = sum / sum2\n",
    "print(\"a\",a)\n",
    "\n",
    "\n",
    "b = y_mean - a * x_mean\n",
    "print(\"b\",b)\n",
    "\n",
    "x = np.linspace(0,20,11)  # xの値域(0, 1, 2, 3)\n",
    "y = a * x + b# 直線の式\n",
    "\n",
    "#    plt.plot(x,y,\"r-\")  \n",
    "plt.plot(x,y,\"r\")"
   ]
  },
  {
   "cell_type": "code",
   "execution_count": null,
   "metadata": {},
   "outputs": [],
   "source": []
  },
  {
   "cell_type": "code",
   "execution_count": null,
   "metadata": {},
   "outputs": [],
   "source": []
  }
 ],
 "metadata": {
  "kernelspec": {
   "display_name": "Python 3",
   "language": "python",
   "name": "python3"
  },
  "language_info": {
   "codemirror_mode": {
    "name": "ipython",
    "version": 3
   },
   "file_extension": ".py",
   "mimetype": "text/x-python",
   "name": "python",
   "nbconvert_exporter": "python",
   "pygments_lexer": "ipython3",
   "version": "3.6.4"
  }
 },
 "nbformat": 4,
 "nbformat_minor": 2
}
