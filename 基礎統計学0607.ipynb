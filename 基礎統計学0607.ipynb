{
 "cells": [
  {
   "cell_type": "code",
   "execution_count": 90,
   "metadata": {},
   "outputs": [
    {
     "name": "stdout",
     "output_type": "stream",
     "text": [
      "0.252\n",
      "0.491\n",
      "0.257\n"
     ]
    }
   ],
   "source": [
    "#p65 例1\n",
    "\n",
    "import random\n",
    "NUM_ = 1000\n",
    "\n",
    "def coin():\n",
    "    r = random.random()\n",
    "    if(r >= 0.5):\n",
    "        return 'o'\n",
    "    else:\n",
    "        return 'u'\n",
    "\n",
    "def count_o(val):\n",
    "    count = 0\n",
    "    for i in val:\n",
    "        if i is 'o':\n",
    "            count += 1\n",
    "    return count\n",
    "    \n",
    "def double_coin(num):\n",
    "    val = []\n",
    "    for i in range(num):\n",
    "        pare = [coin(),coin()]\n",
    "        val.append(pare)\n",
    "    return val\n",
    "\n",
    "pare_set = double_coin(NUM_)\n",
    "#print(pare_set)\n",
    "        \n",
    "def jisho(pare_set,pare):\n",
    "    count = 0\n",
    "    for i in pare_set:\n",
    "        if i == pare:\n",
    "            count += 1\n",
    "    return count\n",
    "\n",
    "p = [0,0,0]\n",
    "\n",
    "pare = ['u','u']\n",
    "p[0] = jisho(pare_set,pare)/NUM_\n",
    "pare = ['u','o']\n",
    "p[1] = jisho(pare_set,pare)\n",
    "pare = ['o','u']\n",
    "p[1] += jisho(pare_set,pare)\n",
    "p[1] /= NUM_\n",
    "pare = ['o','o']\n",
    "p[2] = jisho(pare_set,pare)/NUM_\n",
    "\n",
    "\n",
    "\n",
    "for i in p:\n",
    "    print(i)\n",
    "\n",
    "\n",
    " "
   ]
  },
  {
   "cell_type": "code",
   "execution_count": 178,
   "metadata": {},
   "outputs": [
    {
     "name": "stdout",
     "output_type": "stream",
     "text": [
      "p[ 0 ]: 0.12\n",
      "p[ 1 ]: 0.36\n",
      "p[ 2 ]: 0.36\n",
      "p[ 3 ]: 0.114\n",
      "sum: 0.954\n"
     ]
    }
   ],
   "source": [
    "#p65 練習1\n",
    "\n",
    "def triple_coin(num):\n",
    "    val = []\n",
    "    for i in range(num):\n",
    "        pare = [coin(),coin(),coin()]\n",
    "        val.append(pare)\n",
    "    return val\n",
    "\n",
    "\n",
    "p = [0,0,0,0]\n",
    "\n",
    "pare = ['u','u','u']\n",
    "pare_set = triple_coin(NUM_)\n",
    "p[0] += jisho(pare_set,pare)\n",
    "\n",
    "pare = ['u','u','o']\n",
    "pare_set = triple_coin(NUM_)\n",
    "p[1] += jisho(pare_set,pare)\n",
    "\n",
    "pare = ['u','o','u']\n",
    "pare_set = triple_coin(NUM_)\n",
    "p[1] += jisho(pare_set,pare)\n",
    "\n",
    "pare = ['u','o','o']\n",
    "pare_set = triple_coin(NUM_)\n",
    "p[2] += jisho(pare_set,pare)\n",
    "\n",
    "pare = ['o','u','u']\n",
    "pare_set = triple_coin(NUM_)\n",
    "p[1] += jisho(pare_set,pare)\n",
    "\n",
    "pare = ['o','u','o']\n",
    "pare_set = triple_coin(NUM_)\n",
    "p[2] += jisho(pare_set,pare)\n",
    "\n",
    "pare = ['o','o','u']\n",
    "pare_set = triple_coin(NUM_)\n",
    "p[2] += jisho(pare_set,pare)\n",
    "\n",
    "pare = ['o','o','o']\n",
    "pare_set = triple_coin(NUM_)\n",
    "p[3] += jisho(pare_set,pare)\n",
    "\n",
    "\n",
    "sum = 0\n",
    "for i in range(4):\n",
    "    p[i] = p[i]/NUM_\n",
    "    sum += p[i]\n",
    "    print(\"p[\",i,\"]:\",p[i])\n",
    "print(\"sum:\",sum)\n"
   ]
  },
  {
   "cell_type": "code",
   "execution_count": 175,
   "metadata": {
    "collapsed": true
   },
   "outputs": [
    {
     "name": "stdout",
     "output_type": "stream",
     "text": [
      "p[ 2 ]: 0.037\n",
      "p[ 3 ]: 0.049\n",
      "p[ 4 ]: 0.09\n",
      "p[ 5 ]: 0.103\n",
      "p[ 6 ]: 0.146\n",
      "p[ 7 ]: 0.164\n",
      "p[ 8 ]: 0.136\n",
      "p[ 9 ]: 0.104\n",
      "p[ 10 ]: 0.08\n",
      "p[ 11 ]: 0.052\n",
      "p[ 12 ]: 0.039\n",
      "1.0\n"
     ]
    }
   ],
   "source": [
    "#p65 例題1\n",
    "\n",
    "def saikoro():\n",
    "    dif = 1/6\n",
    "    r = random.random()\n",
    "    for i in range(6):\n",
    "        if r <= dif * (i+1):\n",
    "            return i+1\n",
    "\n",
    "\n",
    "def two_saikoro():\n",
    "    val = []\n",
    "    val.append(saikoro())\n",
    "    val.append(saikoro())\n",
    "    return val\n",
    "\n",
    "def list_sum(list):\n",
    "    sum = 0\n",
    "    for i in range(len(list)):\n",
    "        sum += list[i]\n",
    "    return sum\n",
    "\n",
    "data = []\n",
    "for i in range(NUM_):\n",
    "    data.append(list_sum(two_saikoro()))\n",
    "    \n",
    "#print(data)\n",
    "\n",
    "def prob(data,x):\n",
    "    \n",
    "    count = 0\n",
    "    for i in range(len(data)):\n",
    "        if data[i] == x:\n",
    "            count += 1\n",
    "            \n",
    "    return count/len(data)\n",
    "\n",
    "sum = 0\n",
    "for i in range(13):\n",
    "    if(i >= 2):\n",
    "        print(\"p[\",i,\"]:\",prob(data,i))\n",
    "    sum += prob(data,i)\n",
    "    \n",
    "print(sum)"
   ]
  },
  {
   "cell_type": "code",
   "execution_count": 191,
   "metadata": {},
   "outputs": [
    {
     "name": "stdout",
     "output_type": "stream",
     "text": [
      "p[ 0 ]: 0.145\n",
      "p[ 1 ]: 0.298\n",
      "p[ 2 ]: 0.229\n",
      "p[ 3 ]: 0.155\n",
      "p[ 4 ]: 0.119\n",
      "p[ 5 ]: 0.054\n",
      "sum: 1.0\n",
      "p(0<=x<=2): 0.84\n"
     ]
    }
   ],
   "source": [
    "#p65 練習2\n",
    "\n",
    "def two_dif(pare):\n",
    "    return abs(pare[0] - pare[1])\n",
    "\n",
    "data = []\n",
    "for i in range(NUM_):\n",
    "    data.append(two_dif(two_saikoro()))\n",
    "\n",
    "    \n",
    "# (1)\n",
    "sum = 0\n",
    "for i in range(6):\n",
    "    print(\"p[\",i,\"]:\",prob(data,i))\n",
    "    sum += prob(data,i)\n",
    "    \n",
    "print(\"sum:\",sum)\n",
    "\n",
    "# (2)\n",
    "p_0_2 = p[0] + p[1] + p[2]\n",
    "print(\"p(0<=x<=2):\",p_0_2)\n"
   ]
  },
  {
   "cell_type": "code",
   "execution_count": 207,
   "metadata": {},
   "outputs": [
    {
     "name": "stdout",
     "output_type": "stream",
     "text": [
      "['500', '100', '100', '100', '0', '0', '0', '0', '0', '0', '0', '0', '0', '0', '0', '0', '0', '0', '0', '0']\n"
     ]
    }
   ],
   "source": [
    "#p66 例2\n",
    "kuji = []\n",
    "for i in range(1):kuji.append(\"500\")\n",
    "for i in range(3):kuji.append(\"100\")\n",
    "for i in range(16):kuji.append(\"0\")\n",
    "print(kuji)\n",
    "\n",
    "def kuji_biki(kuji):\n",
    "    dif = 1/len(kuji)\n",
    "    r = random.random()\n",
    "    for i in range(len(kuji)):\n",
    "        if r <= dif * (i+1):\n",
    "            return kuji[i]\n",
    "        \n",
    "for i in range(100):print(kuji_biki(kuji))\n",
    "    \n",
    "    \n"
   ]
  },
  {
   "cell_type": "code",
   "execution_count": 230,
   "metadata": {},
   "outputs": [
    {
     "ename": "IndexError",
     "evalue": "list assignment index out of range",
     "output_type": "error",
     "traceback": [
      "\u001b[1;31m---------------------------------------------------------------------------\u001b[0m",
      "\u001b[1;31mIndexError\u001b[0m                                Traceback (most recent call last)",
      "\u001b[1;32m<ipython-input-230-c1fab9f81416>\u001b[0m in \u001b[0;36m<module>\u001b[1;34m()\u001b[0m\n\u001b[0;32m      9\u001b[0m \u001b[0mhoshina\u001b[0m \u001b[1;33m=\u001b[0m \u001b[1;33m[\u001b[0m\u001b[1;33m]\u001b[0m\u001b[1;33m\u001b[0m\u001b[0m\n\u001b[0;32m     10\u001b[0m \u001b[1;32mfor\u001b[0m \u001b[0mi\u001b[0m \u001b[1;32min\u001b[0m \u001b[0mrange\u001b[0m\u001b[1;33m(\u001b[0m\u001b[1;36m100\u001b[0m\u001b[1;33m)\u001b[0m\u001b[1;33m:\u001b[0m\u001b[1;33m\u001b[0m\u001b[0m\n\u001b[1;32m---> 11\u001b[1;33m     \u001b[0mhoshina\u001b[0m\u001b[1;33m[\u001b[0m\u001b[0mi\u001b[0m\u001b[1;33m]\u001b[0m \u001b[1;33m=\u001b[0m \u001b[0mHuman\u001b[0m\u001b[1;33m(\u001b[0m\u001b[1;33m)\u001b[0m\u001b[1;33m\u001b[0m\u001b[0m\n\u001b[0m\u001b[0;32m     12\u001b[0m \u001b[1;33m\u001b[0m\u001b[0m\n\u001b[0;32m     13\u001b[0m \u001b[1;33m\u001b[0m\u001b[0m\n",
      "\u001b[1;31mIndexError\u001b[0m: list assignment index out of range"
     ]
    }
   ],
   "source": [
    "class Human:\n",
    "    def __init__(self):\n",
    "        self.x = 0\n",
    "        self.y = 0\n",
    "    def walk(self,x,y):\n",
    "        self.x += x\n",
    "        self.y += y\n",
    "\n",
    "\n",
    "\n"
   ]
  },
  {
   "cell_type": "code",
   "execution_count": null,
   "metadata": {},
   "outputs": [],
   "source": []
  },
  {
   "cell_type": "code",
   "execution_count": null,
   "metadata": {},
   "outputs": [],
   "source": []
  }
 ],
 "metadata": {
  "kernelspec": {
   "display_name": "Python 3",
   "language": "python",
   "name": "python3"
  },
  "language_info": {
   "codemirror_mode": {
    "name": "ipython",
    "version": 3
   },
   "file_extension": ".py",
   "mimetype": "text/x-python",
   "name": "python",
   "nbconvert_exporter": "python",
   "pygments_lexer": "ipython3",
   "version": "3.6.4"
  }
 },
 "nbformat": 4,
 "nbformat_minor": 2
}
